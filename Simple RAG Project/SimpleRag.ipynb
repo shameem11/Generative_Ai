{
 "cells": [
  {
   "cell_type": "markdown",
   "metadata": {},
   "source": [
    "* RAG = retrieval augmented generation\n",
    "\n",
    "RAG PipeLine for this project \n",
    "\n",
    "1. Load Data from different source (Pdf,Excel,Text,Json)\n",
    "2. Load Data \n",
    "3. Transform \n",
    "4. embeding\n",
    "5. store in vector Db \n",
    "6. embed the input \n",
    "7. retrieve  most similar content "
   ]
  },
  {
   "cell_type": "markdown",
   "metadata": {},
   "source": [
    "* Data Ingestion \n",
    "document loaders to load data from a source as Document's. \n",
    "A Document is a piece of text and associated metadata"
   ]
  },
  {
   "cell_type": "code",
   "execution_count": 25,
   "metadata": {},
   "outputs": [],
   "source": [
    "from langchain_community.document_loaders import TextLoader\n",
    "loader = TextLoader('/home/mshameem/Documents/Generative_Ai/Simple RAG Project/Atomic_habit.txt')\n",
    "text_document = loader.load()\n",
    "docs= text_document"
   ]
  },
  {
   "cell_type": "code",
   "execution_count": 32,
   "metadata": {},
   "outputs": [],
   "source": [
    "from dotenv import load_dotenv\n",
    "import os \n",
    "load_dotenv()\n",
    "hugging_Api = os.getenv('Hugging_Face_API')\n",
    "pinecone_API = os.getenv('pinecone_Api')"
   ]
  },
  {
   "cell_type": "code",
   "execution_count": null,
   "metadata": {},
   "outputs": [
    {
     "name": "stdout",
     "output_type": "stream",
     "text": [
      "\n"
     ]
    }
   ],
   "source": [
    "from langchain_community.document_loaders import WebBaseLoader\n",
    "import bs4\n",
    "\n",
    "# Define the URL to load\n",
    "url = 'https://forwardfitnessstl.com/2021/01/book-review-atomic-habits-by-james-clear/'\n",
    "\n",
    "# Use SoupStrainer to filter specific parts of the HTML\n",
    "bs_kwargs = dict(\n",
    "    parse_only=bs4.SoupStrainer(class_=['post-title','post-content','post-header'])\n",
    ")\n",
    "\n",
    "# Initialize the WebBaseLoader\n",
    "loader = WebBaseLoader(web_path=url, bs_kwargs=bs_kwargs)\n",
    "\n",
    "# Load the documents\n",
    "text_documents = loader.load()\n"
   ]
  },
  {
   "cell_type": "code",
   "execution_count": 24,
   "metadata": {},
   "outputs": [
    {
     "data": {
      "text/plain": [
       "[Document(metadata={'source': 'https://forwardfitnessstl.com/2021/01/book-review-atomic-habits-by-james-clear/'}, page_content='')]"
      ]
     },
     "execution_count": 24,
     "metadata": {},
     "output_type": "execute_result"
    }
   ],
   "source": [
    "text_documents"
   ]
  },
  {
   "cell_type": "code",
   "execution_count": 26,
   "metadata": {},
   "outputs": [],
   "source": [
    "# transform\n",
    "from langchain.text_splitter import RecursiveCharacterTextSplitter\n",
    "text_splitter = RecursiveCharacterTextSplitter(\n",
    "    chunk_size=1000,\n",
    "    chunk_overlap=20,\n",
    "    is_separator_regex=False,\n",
    ")\n",
    "documents = text_splitter.split_documents(docs)"
   ]
  },
  {
   "cell_type": "code",
   "execution_count": 28,
   "metadata": {},
   "outputs": [
    {
     "data": {
      "text/plain": [
       "[Document(metadata={'source': '/home/mshameem/Documents/Generative_Ai/Simple RAG Project/Atomic_habit.txt'}, page_content='What My Intention Is\" based on the Atomic Habits approach. I remember \\nreading about this method where you break down your intentions into tiny, \\nactionable steps called microhabits. Each of these microhabits is supposed \\nto help build up to a larger habit over time.\\n\\nFirst, I think I should start by understanding what exactly an atomic \\nhabit is. From what I recall, it\\'s the smallest possible step toward achieving a bigger goal or habit. These microactions are designed to be so small and specific that you can \\ncommit to doing them without hesitation. So, if my main intention is to \"write every day,\" a microhabit might be something like writing for just five minutes each morning.\\n\\nBut wait, I want the text in the file to outline my intentions at various levels: my overall intention, major habits, smaller habits, and down to individual actions. How do I \\nstructure this?')]"
      ]
     },
     "execution_count": 28,
     "metadata": {},
     "output_type": "execute_result"
    }
   ],
   "source": [
    "documents[:1]"
   ]
  },
  {
   "cell_type": "code",
   "execution_count": 38,
   "metadata": {},
   "outputs": [],
   "source": [
    "# embeding\n",
    "from langchain_pinecone import PineconeVectorStore\n",
    "from langchain_community.embeddings import HuggingFaceInferenceAPIEmbeddings\n",
    "# hugging face embeding \n",
    "embeddings = HuggingFaceInferenceAPIEmbeddings(api_key=hugging_Api,model_name=\"sentence-transformers/all-mpnet-base-v2\")\n",
    "# pinecone \n",
    "index_name = 'learnlangchin'\n",
    "vectorstore = PineconeVectorStore(index_name=index_name, embedding=embeddings,pinecone_api_key=pinecone_API)\n"
   ]
  },
  {
   "cell_type": "code",
   "execution_count": 39,
   "metadata": {},
   "outputs": [
    {
     "data": {
      "text/plain": [
       "['acb2c0fd-911c-4d17-aea2-e1609f05f0da']"
      ]
     },
     "execution_count": 39,
     "metadata": {},
     "output_type": "execute_result"
    }
   ],
   "source": [
    "vectorstore.add_documents(docs)"
   ]
  },
  {
   "cell_type": "code",
   "execution_count": 44,
   "metadata": {},
   "outputs": [
    {
     "data": {
      "text/plain": [
       "'What My Intention Is\" based on the Atomic Habits approach. I remember \\nreading about this method where you break down your intentions into tiny, \\nactionable steps called microhabits. Each of these microhabits is supposed \\nto help build up to a larger habit over time.\\n\\nFirst, I think I should start by understanding what exactly an atomic \\nhabit is. From what I recall, it\\'s the smallest possible step toward achieving a bigger goal or habit. These microactions are designed to be so small and specific that you can \\ncommit to doing them without hesitation. So, if my main intention is to \"write every day,\" a microhabit might be something like writing for just five minutes each morning.\\n\\nBut wait, I want the text in the file to outline my intentions at various levels: my overall intention, major habits, smaller habits, and down to individual actions. How do I \\nstructure this?\\n\\nMaybe I should begin by listing my main intention. That\\'s straightforward—just one line about what I\\'m aiming for. Then, break that into major habits. For example, if my big \\nintention is \"write every day,\" a major habit could be \"write 30 minutes daily.\" Breaking that down further might give me microhabits like \"write five minutes in the morning\" and \\n\"write five minutes in the evening.\"\\n\\nBut I should also consider other aspects of my life. Maybe I want to improve some other areas, like exercise or mental health. So each major habit would be a separate section \\nwith its own microhabs.\\n\\nWait, how many levels am I supposed to go down? The example given went from intention to sub-levels 1 through 5, but maybe that\\'s too detailed for my needs. Perhaps I can stop at \\nthe individual action level since those are the actionable steps I need in a file.\\n\\nI also need to think about consistency and accountability. The Atomic Habits method emphasizes self-reward systems where completing a microhabit gives you something you want, \\nlike a sticker or just satisfaction, which keeps you motivated.\\n\\nSo putting this all together, my text should be structured as follows:\\n\\n1. **My Intention**: A brief statement of what I\\'m trying to achieve.\\n2. **Major Habits**: Breakdown into larger steps that contribute to the main intention.\\n3. **Sub-Habits**: Further breakdown into even smaller actions.\\n4. **Microhabs**: The very tiny, actionable steps taken daily or regularly.\\n\\nI should make sure each level is clearly defined and leads logically to the next. Also, I need to personalize this—using specific examples relevant to my life instead of generic \\nstatements.\\n\\nWait, but how detailed do I go? In the example provided, they went down to five levels, which included sub-levels labeled 1 through 5 with their own microhabs. That seems quite \\ngranular. Maybe for a personal file, going two or three levels would be sufficient without making it too complicated.\\n\\nI also need to think about what my self-reward system is. Each completed microhabit should give me something positive, like a small reward, to keep me motivated. This adds an \\nextra layer of accountability and makes the process more sustainable.\\n\\nHmm, maybe I can include this as part of each entry in the file so it\\'s clear why each action matters. For example, writing five minutes gives me that moment of accomplishment \\nthat fuels my motivation for the next step.\\n\\nI should also consider any potential challenges or obstacles.^[ What might prevent me from completing these \\nmicrohabs? Maybe lack of time, motivation, or accountability. Addressing \\nthese in the file could help set realistic expectations and maintain \\nconsistency.\\n\\nAtomic habits, a concept popularized by James Clear in his book *Atomic Habits*, are small, incremental behaviors that, when practiced consistently, lead to significant changes over time. These habits may seem insignificant on their own, but their power lies in their compounding effect. Just as a small amount of money invested regularly can grow into a fortune through compound interest, small habits practiced daily can lead to profound improvements in our lives.\\n\\nThe key idea behind atomic habits is that success is not about making drastic changes all at once but about building a system of small, manageable habits that can be sustained over time. For example, if you want to improve your health, you don’t need to start by running a marathon or completely overhauling your diet. Instead, you could begin by taking a 5-minute walk each day or drinking one extra glass of water. These tiny actions, when repeated consistently, can lead to meaningful results.\\n\\nOne of the most important principles of atomic habits is the *Aggregation of Marginal Gains*, a concept borrowed from sports. This idea suggests that small, incremental improvements, when compounded over time, can lead to remarkable outcomes. For instance, if you improve by just 1% each day, you’ll end up 37 times better in a year. This principle underscores the power of patience and persistence in achieving long-term success.\\n\\nAtomic habits also rely on the science of habit formation, which involves four key components: cue, craving, response, and reward. To build a new habit, you need to identify the cue (the trigger), create a craving (the motivation), define the response (the action), and provide a reward (the payoff). By engineering your environment to make good habits easy and bad habits difficult, you can create a system that supports your goals.\\n\\nAnother critical aspect of atomic habits is the role of identity. Small habits, when repeated consistently, not only change your behavior but also shape who you are. For example, if you start writing for just 5 minutes a day, you begin to see yourself as a writer. This shift in identity can be incredibly powerful because it creates a sense of alignment between your actions and your values.\\n\\nThe beauty of atomic habits lies in their flexibility. They can be applied to any area of life, whether it’s personal development, health, finance, or relationships. For instance, if you want to save money, you could start by saving just $1 a day. Over time, this habit can grow into a significant savings routine. Similarly, if you want to build a reading habit, you could start by reading just one page a day. Before long, you’ll find yourself looking forward to reading as part of your daily routine.\\n\\nOne of the biggest obstacles to building habits is the misconception that you need to be perfect. Many people give up on their goals because they miss a day or two, feeling like they’ve failed. However, atomic habits emphasize that progress, not perfection, is the key. Missing a day doesn’t matter as long as you get back on track. Consistency is what matters most.\\n\\nThe science behind atomic habits also highlights the role of dopamine, a neurotransmitter associated with pleasure and reward. When you perform a habit and receive a reward, your brain releases dopamine, which reinforces the behavior. This is why it’s important to make habits satisfying, whether through a sense of accomplishment, a small treat, or positive feedback.\\n\\nIn summary, atomic habits are a powerful strategy for creating lasting change in your life. By focusing on small, incremental steps, you can build a system of behaviors that lead to significant improvements over time. Whether it’s improving your health, increasing your productivity, or enhancing your relationships, atomic habits provide a practical and sustainable approach to achieving your goals. The key is to stay consistent, celebrate small wins, and trust the process of compounding progress. Over time, these tiny habits will add up to create a life of meaningful change.'"
      ]
     },
     "execution_count": 44,
     "metadata": {},
     "output_type": "execute_result"
    }
   ],
   "source": [
    "query = 'Atomic Habits'\n",
    "result=vectorstore.similarity_search(query)\n",
    "result[0].page_content"
   ]
  }
 ],
 "metadata": {
  "kernelspec": {
   "display_name": "GenerativeAI",
   "language": "python",
   "name": "python3"
  },
  "language_info": {
   "codemirror_mode": {
    "name": "ipython",
    "version": 3
   },
   "file_extension": ".py",
   "mimetype": "text/x-python",
   "name": "python",
   "nbconvert_exporter": "python",
   "pygments_lexer": "ipython3",
   "version": "3.11.11"
  }
 },
 "nbformat": 4,
 "nbformat_minor": 2
}
